{
 "cells": [
  {
   "cell_type": "markdown",
   "id": "265a30cf-2655-4410-af4d-eac3b54d75f6",
   "metadata": {},
   "source": [
    "Que1:what is multithreading in python?why it is used? name the module used to handel threats in pyhon."
   ]
  },
  {
   "cell_type": "markdown",
   "id": "7aa9817d-2104-4bad-84d4-42f3e29d1973",
   "metadata": {},
   "source": [
    "Ans: a thread is a unit of execution within a process. Multithreading refers to concurrently executing multiple threads by rapidly  switching the control of the CPU between threads called context switching.\n",
    "multithreading enables efficient utilization of the resources as the threads share the data space and memory.The threading module is used to handel threads in python"
   ]
  },
  {
   "cell_type": "markdown",
   "id": "d549f67e-8901-467d-b0a0-bb13a5c7ea03",
   "metadata": {},
   "source": [
    "Que2: why threading module used? write the use of the following functions:activeCount() 2.currentThread() 3.enumerate()"
   ]
  },
  {
   "cell_type": "markdown",
   "id": "bb87d1db-b887-4c3f-90a0-217492f29851",
   "metadata": {},
   "source": [
    "ans: python threading allows you to have different parts of your program run concurrently and can simplify your design.\n",
    "1.activeCount(): active_count() is an inbuild method of the threading module in python. it is used to return the number of Thread objects that are active at any instant. 2.currentThread() ; it is used to return the current Thread object , which corresponds to the caller's thread of control.parameter(s):None. 3.enumerate(): enumerate function in python  converts a data collection object into an enumerate object. enumerate returns an object that contains a counter as a key for each value within an obect, making items within the collection easier to access."
   ]
  },
  {
   "cell_type": "markdown",
   "id": "2ded1426-c250-4d9a-968f-c364586f0427",
   "metadata": {},
   "source": [
    "Que3: expain the following functions:\n",
    "    1.run(), 2.start(), 3.join(), 4.isAlive()"
   ]
  },
  {
   "cell_type": "markdown",
   "id": "62e9f82e-a115-43d2-be7a-0e0a09eb9bbb",
   "metadata": {},
   "source": [
    "Thread.run() method is an inbuild method of the Thread class of the threading module in python.this method is used to represent a thread activity.it calls the method expressed as the target argument in the thread object alone with the positional and keyword arguments taken from the args and kwargs arguments.\n",
    "2.start(): start() method is an inbuild method of the Thread class of the threading module in python. it is used to start a Thread's activity. this method calls the run() method internally which then executes the target method. this method must be called at most one time for one thread.\n",
    "3.join(): The join method creates all of the elements in an array seperated by commas or a specified seperator string.\n",
    "4. isAlive():  it uses a Thread object, and checks whether that thread is alive or not,ie, it is still running or not. this method returns True before the run() starts until just after the run() method is executed"
   ]
  },
  {
   "cell_type": "markdown",
   "id": "1fa54e0e-579e-40ac-9629-05d2c8cbf65f",
   "metadata": {},
   "source": [
    "Que 4: state advantages and disadvantages of multithreading."
   ]
  },
  {
   "cell_type": "markdown",
   "id": "fec51932-cfdf-475d-bb63-80499b7107c8",
   "metadata": {},
   "source": [
    "advantages: enhanced performance by decreased development time , \n",
    "simplified and streamlined program coding , \n",
    "improvised GUI responsiveness, \n",
    "simultaneous and parallelized occurance of tasks ,\n",
    "better use of cache strong by utilization of resource ,\n",
    "decrease cost of maintenance ,\n",
    "better use ofCUP resource"
   ]
  },
  {
   "cell_type": "markdown",
   "id": "0bd6aed8-2bb4-496b-b9cc-461a85d1ff11",
   "metadata": {},
   "source": [
    "Disadvantages: difficulty of writing code. multithreaded and multicontexted application are not easy to write. \n",
    "difficulty of debugging ,\n",
    " difficulty of managing concurrency ,\n",
    "difficulty of testing ,\n",
    "ifficulty of porting existing code"
   ]
  },
  {
   "cell_type": "markdown",
   "id": "95ce1598-5ff5-4fbe-b6c4-43362bf6cf8e",
   "metadata": {},
   "source": [
    "Que 5: explain deadlock and race conditions"
   ]
  },
  {
   "cell_type": "markdown",
   "id": "fd9a6c23-240b-4781-a6e6-a167f1181f2e",
   "metadata": {},
   "source": [
    "ans: A race condition occures when two threads use the same variable at a given time. Deadlock exists when two threads seek one lock simultaneously . this situation will stop both threads from processing or executing the functions"
   ]
  },
  {
   "cell_type": "markdown",
   "id": "37f810aa-480d-497e-9084-d7b1eca26675",
   "metadata": {},
   "source": [
    "Que 6: write a python program to create two threads. thread one print the list of squares and thread two must print list of cubes"
   ]
  },
  {
   "cell_type": "code",
   "execution_count": 16,
   "id": "c832f6d3-aaad-4b4e-a91c-9d8f78d797fb",
   "metadata": {},
   "outputs": [],
   "source": [
    "import time #import time module\n",
    "import threading\n",
    "from threading import*\n",
    "\n",
    "def test_squres(num):\n",
    "    print(\"calculate the squres root of given number\")\n",
    "    for n in num: #use for loop\n",
    "        time.sleep(0.3)\n",
    "        pint('squres is :',n*n)\n",
    "        "
   ]
  },
  {
   "cell_type": "code",
   "execution_count": 17,
   "id": "f71f1560-0dd9-46e2-8571-80d13ff619e5",
   "metadata": {},
   "outputs": [],
   "source": [
    "def test_cubes(num):\n",
    "    print(\"calculate the cubes of the given number\")\n",
    "    for n in num:#for loop\n",
    "        time.sleep(0.3)\n",
    "        orint('cube is:',n*n*n)"
   ]
  },
  {
   "cell_type": "code",
   "execution_count": 19,
   "id": "2484d84e-9ee0-418e-8ca7-3f37fab57e79",
   "metadata": {},
   "outputs": [
    {
     "name": "stderr",
     "output_type": "stream",
     "text": [
      "Exception in thread Thread-22 (test_squres):\n",
      "Traceback (most recent call last):\n",
      "  File \"/opt/conda/lib/python3.10/threading.py\", line 1016, in _bootstrap_inner\n",
      "Exception in thread Thread-23 (test_cubes):\n",
      "Traceback (most recent call last):\n",
      "  File \"/opt/conda/lib/python3.10/threading.py\", line 1016, in _bootstrap_inner\n",
      "    self.run()\n",
      "  File \"/opt/conda/lib/python3.10/threading.py\", line 953, in run\n",
      "    self._target(*self._args, **self._kwargs)\n",
      "  File \"/tmp/ipykernel_77/3582479232.py\", line 3, in test_cubes\n",
      "    self.run()\n",
      "  File \"/opt/conda/lib/python3.10/threading.py\", line 953, in run\n",
      "TypeError: 'int' object is not iterable\n",
      "    self._target(*self._args, **self._kwargs)\n",
      "  File \"/tmp/ipykernel_77/3685464245.py\", line 7, in test_squres\n",
      "TypeError: 'int' object is not iterable\n"
     ]
    },
    {
     "name": "stdout",
     "output_type": "stream",
     "text": [
      "calculate the squres root of given number\n",
      "calculate the cubes of the given number\n",
      "Total time taking by threads is: 0.006613016128540039\n",
      "Again executing the main thread\n",
      "Thread 1 and Thread 2 have finished their execution.\n"
     ]
    }
   ],
   "source": [
    "ar=[4]#given array\n",
    "t=time.time()\n",
    "#test_cubes(ar)\n",
    "#test_squres(ar)\n",
    "th1= threading.Thread(target=test_squres, args=(ar))\n",
    "th2=threading.Thread(target=test_cubes, args=(ar))\n",
    "th1.start()\n",
    "th2.start()\n",
    "th1.join()\n",
    "th2.join()\n",
    "\n",
    "print(\"Total time taking by threads is:\",time.time()-t)\n",
    "print(\"Again executing the main thread\")\n",
    "print(\"Thread 1 and Thread 2 have finished their execution.\")"
   ]
  },
  {
   "cell_type": "code",
   "execution_count": 20,
   "id": "5bf8b0ce-0a61-4acd-b753-6882c8b25ba4",
   "metadata": {},
   "outputs": [
    {
     "ename": "SyntaxError",
     "evalue": "invalid syntax (2502051941.py, line 11)",
     "output_type": "error",
     "traceback": [
      "\u001b[0;36m  Cell \u001b[0;32mIn[20], line 11\u001b[0;36m\u001b[0m\n\u001b[0;31m    if__name__==\"__main__\":\u001b[0m\n\u001b[0m                          ^\u001b[0m\n\u001b[0;31mSyntaxError\u001b[0m\u001b[0;31m:\u001b[0m invalid syntax\n"
     ]
    }
   ],
   "source": [
    "import threading\n",
    "\n",
    "def print_cube(num):\n",
    "    #function to print cube of given num\n",
    "    print (\"cube:{}\" .format(num*num*num))\n",
    "    \n",
    "def print_squre(num):\n",
    "    #function to print squre of given num\n",
    "    print(\"squre:{}\" .format(num*num))\n",
    "    \n",
    "if__name__==\"__main__\":\n",
    "    #creating thread\n",
    "    t1 = threading.Thread(target=print_squre,args=(10,))\n",
    "    t2 = threating.Thread(target=print_cube,args=(10,))\n",
    "    \n",
    "    #starting thread 1\n",
    "    t1.start()\n",
    "    #starting thread 2\n",
    "    t2.start()\n",
    "    \n",
    "    #wait until thread 1 is completely executed\n",
    "    t1.join()\n",
    "    #wait until thread 2 is completely executed\n",
    "    t2.join()\n",
    "    #both threads completely executed\n",
    "    print(\"done!\")\n",
    "    "
   ]
  },
  {
   "cell_type": "code",
   "execution_count": null,
   "id": "6acfd4f7-2f4c-4a2d-8daf-6043262ca752",
   "metadata": {},
   "outputs": [],
   "source": []
  }
 ],
 "metadata": {
  "kernelspec": {
   "display_name": "Python 3 (ipykernel)",
   "language": "python",
   "name": "python3"
  },
  "language_info": {
   "codemirror_mode": {
    "name": "ipython",
    "version": 3
   },
   "file_extension": ".py",
   "mimetype": "text/x-python",
   "name": "python",
   "nbconvert_exporter": "python",
   "pygments_lexer": "ipython3",
   "version": "3.10.8"
  }
 },
 "nbformat": 4,
 "nbformat_minor": 5
}
